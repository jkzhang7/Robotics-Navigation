{
 "cells": [
  {
   "cell_type": "code",
   "execution_count": 7,
   "metadata": {},
   "outputs": [],
   "source": [
    "import numpy as np"
   ]
  },
  {
   "cell_type": "code",
   "execution_count": 8,
   "metadata": {},
   "outputs": [],
   "source": [
    "step1 = np.load('./rmp_label/step1.npy')"
   ]
  },
  {
   "cell_type": "code",
   "execution_count": 10,
   "metadata": {},
   "outputs": [
    {
     "data": {
      "text/plain": [
       "array([[[0.6313726 , 0.67058825, 0.70980394],\n",
       "        [0.6313726 , 0.67058825, 0.70980394],\n",
       "        [0.627451  , 0.6666667 , 0.7058824 ],\n",
       "        ...,\n",
       "        [0.6784314 , 0.69803923, 0.73333335],\n",
       "        [0.70980394, 0.7294118 , 0.7647059 ],\n",
       "        [0.69803923, 0.7176471 , 0.7529412 ]],\n",
       "\n",
       "       [[0.627451  , 0.6666667 , 0.7058824 ],\n",
       "        [0.627451  , 0.6666667 , 0.7058824 ],\n",
       "        [0.627451  , 0.6666667 , 0.7058824 ],\n",
       "        ...,\n",
       "        [0.6901961 , 0.70980394, 0.7490196 ],\n",
       "        [0.70980394, 0.7294118 , 0.7647059 ],\n",
       "        [0.68235296, 0.7019608 , 0.7372549 ]],\n",
       "\n",
       "       [[0.627451  , 0.6666667 , 0.7058824 ],\n",
       "        [0.627451  , 0.6666667 , 0.7058824 ],\n",
       "        [0.627451  , 0.6666667 , 0.7058824 ],\n",
       "        ...,\n",
       "        [0.7058824 , 0.7254902 , 0.7607843 ],\n",
       "        [0.7137255 , 0.73333335, 0.76862746],\n",
       "        [0.67058825, 0.6901961 , 0.7254902 ]],\n",
       "\n",
       "       ...,\n",
       "\n",
       "       [[0.6784314 , 0.6862745 , 0.6901961 ],\n",
       "        [0.6862745 , 0.69411767, 0.69803923],\n",
       "        [0.69411767, 0.7019608 , 0.7058824 ],\n",
       "        ...,\n",
       "        [0.21568628, 0.38431373, 0.5529412 ],\n",
       "        [0.22352941, 0.39607844, 0.5686275 ],\n",
       "        [0.23137255, 0.40784314, 0.58431375]],\n",
       "\n",
       "       [[0.68235296, 0.6901961 , 0.69411767],\n",
       "        [0.6901961 , 0.69803923, 0.7019608 ],\n",
       "        [0.6901961 , 0.69803923, 0.7019608 ],\n",
       "        ...,\n",
       "        [0.22352941, 0.39215687, 0.56078434],\n",
       "        [0.23137255, 0.40392157, 0.5686275 ],\n",
       "        [0.22352941, 0.4       , 0.5686275 ]],\n",
       "\n",
       "       [[0.6862745 , 0.69411767, 0.69803923],\n",
       "        [0.6862745 , 0.6901961 , 0.69411767],\n",
       "        [0.6745098 , 0.68235296, 0.6862745 ],\n",
       "        ...,\n",
       "        [0.23529412, 0.4       , 0.5647059 ],\n",
       "        [0.23529412, 0.40392157, 0.5686275 ],\n",
       "        [0.21960784, 0.39215687, 0.56078434]]], dtype=float32)"
      ]
     },
     "execution_count": 10,
     "metadata": {},
     "output_type": "execute_result"
    }
   ],
   "source": [
    "step1.item()['frame']"
   ]
  },
  {
   "cell_type": "code",
   "execution_count": 23,
   "metadata": {},
   "outputs": [
    {
     "name": "stdout",
     "output_type": "stream",
     "text": [
      "pos\n",
      "heading\n",
      "time_step\n",
      "control_point_metrics\n",
      "control_point_accels\n",
      "velocity\n",
      "angular_velocity\n",
      "goals_local\n",
      "frame\n"
     ]
    }
   ],
   "source": [
    "for item in step1.item().keys():\n",
    "    print (item)"
   ]
  },
  {
   "cell_type": "code",
   "execution_count": 24,
   "metadata": {},
   "outputs": [],
   "source": [
    "import os\n",
    "name_list = os.listdir('./rmp_label')"
   ]
  },
  {
   "cell_type": "code",
   "execution_count": 25,
   "metadata": {},
   "outputs": [],
   "source": [
    "import pandas as pd\n",
    "df_img = pd.DataFrame()\n",
    "for name in name_list:\n",
    "\n",
    "    tmp = pd.DataFrame([[name]], \n",
    "                       columns=['img_name'])\n",
    "    df_img = df_img.append(tmp, ignore_index=True)"
   ]
  },
  {
   "cell_type": "code",
   "execution_count": 26,
   "metadata": {},
   "outputs": [
    {
     "data": {
      "text/html": [
       "<div>\n",
       "<style scoped>\n",
       "    .dataframe tbody tr th:only-of-type {\n",
       "        vertical-align: middle;\n",
       "    }\n",
       "\n",
       "    .dataframe tbody tr th {\n",
       "        vertical-align: top;\n",
       "    }\n",
       "\n",
       "    .dataframe thead th {\n",
       "        text-align: right;\n",
       "    }\n",
       "</style>\n",
       "<table border=\"1\" class=\"dataframe\">\n",
       "  <thead>\n",
       "    <tr style=\"text-align: right;\">\n",
       "      <th></th>\n",
       "      <th>img_name</th>\n",
       "    </tr>\n",
       "  </thead>\n",
       "  <tbody>\n",
       "    <tr>\n",
       "      <th>0</th>\n",
       "      <td>step13.npy</td>\n",
       "    </tr>\n",
       "    <tr>\n",
       "      <th>1</th>\n",
       "      <td>step12.npy</td>\n",
       "    </tr>\n",
       "    <tr>\n",
       "      <th>2</th>\n",
       "      <td>step10.npy</td>\n",
       "    </tr>\n",
       "    <tr>\n",
       "      <th>3</th>\n",
       "      <td>step38.npy</td>\n",
       "    </tr>\n",
       "    <tr>\n",
       "      <th>4</th>\n",
       "      <td>step39.npy</td>\n",
       "    </tr>\n",
       "    <tr>\n",
       "      <th>...</th>\n",
       "      <td>...</td>\n",
       "    </tr>\n",
       "    <tr>\n",
       "      <th>85</th>\n",
       "      <td>step35.npy</td>\n",
       "    </tr>\n",
       "    <tr>\n",
       "      <th>86</th>\n",
       "      <td>step23.npy</td>\n",
       "    </tr>\n",
       "    <tr>\n",
       "      <th>87</th>\n",
       "      <td>step37.npy</td>\n",
       "    </tr>\n",
       "    <tr>\n",
       "      <th>88</th>\n",
       "      <td>step36.npy</td>\n",
       "    </tr>\n",
       "    <tr>\n",
       "      <th>89</th>\n",
       "      <td>step22.npy</td>\n",
       "    </tr>\n",
       "  </tbody>\n",
       "</table>\n",
       "<p>90 rows × 1 columns</p>\n",
       "</div>"
      ],
      "text/plain": [
       "      img_name\n",
       "0   step13.npy\n",
       "1   step12.npy\n",
       "2   step10.npy\n",
       "3   step38.npy\n",
       "4   step39.npy\n",
       "..         ...\n",
       "85  step35.npy\n",
       "86  step23.npy\n",
       "87  step37.npy\n",
       "88  step36.npy\n",
       "89  step22.npy\n",
       "\n",
       "[90 rows x 1 columns]"
      ]
     },
     "execution_count": 26,
     "metadata": {},
     "output_type": "execute_result"
    }
   ],
   "source": [
    "df_img"
   ]
  },
  {
   "cell_type": "code",
   "execution_count": 27,
   "metadata": {},
   "outputs": [],
   "source": [
    "df_img.to_csv('./img_name.csv', index=False)"
   ]
  },
  {
   "cell_type": "code",
   "execution_count": 28,
   "metadata": {},
   "outputs": [],
   "source": [
    "img_list = pd.read_csv('./img_name.csv')"
   ]
  },
  {
   "cell_type": "code",
   "execution_count": 29,
   "metadata": {},
   "outputs": [
    {
     "data": {
      "text/plain": [
       "'step13.npy'"
      ]
     },
     "execution_count": 29,
     "metadata": {},
     "output_type": "execute_result"
    }
   ],
   "source": [
    "img_list['img_name'][0]"
   ]
  },
  {
   "cell_type": "code",
   "execution_count": null,
   "metadata": {},
   "outputs": [],
   "source": []
  }
 ],
 "metadata": {
  "kernelspec": {
   "display_name": "Python 3",
   "language": "python",
   "name": "python3"
  },
  "language_info": {
   "codemirror_mode": {
    "name": "ipython",
    "version": 3
   },
   "file_extension": ".py",
   "mimetype": "text/x-python",
   "name": "python",
   "nbconvert_exporter": "python",
   "pygments_lexer": "ipython3",
   "version": "3.6.10"
  }
 },
 "nbformat": 4,
 "nbformat_minor": 4
}
